{
 "cells": [
  {
   "cell_type": "code",
   "execution_count": 4,
   "metadata": {},
   "outputs": [
    {
     "name": "stdout",
     "output_type": "stream",
     "text": [
      "628949330\n"
     ]
    }
   ],
   "source": [
    "Tierra= 149597870 \n",
    "Jupiter= 778547200\n",
    "distance_km = Jupiter-Tierra \n",
    "print(distance_km)"
   ]
  },
  {
   "cell_type": "code",
   "execution_count": 5,
   "metadata": {},
   "outputs": [
    {
     "name": "stdout",
     "output_type": "stream",
     "text": [
      "390577533.93\n"
     ]
    }
   ],
   "source": [
    "distance_mi = distance_km * 0.621\n",
    "print (distance_mi)"
   ]
  },
  {
   "cell_type": "code",
   "execution_count": 15,
   "metadata": {},
   "outputs": [
    {
     "name": "stdout",
     "output_type": "stream",
     "text": [
      "50300000\n"
     ]
    }
   ],
   "source": [
    "planeta_one = input('Introduzca la distancia del sol para el primer planeta en KM')\n",
    "planeta_two = input('Introduzca la distancia desde el sol para el segundo planeta en KM')\n",
    "planeta_one = int(planeta_one)\n",
    "planeta_two = int(planeta_two)\n",
    "distance_km = planeta_two - planeta_one\n",
    "print(distance_km)"
   ]
  }
 ],
 "metadata": {
  "interpreter": {
   "hash": "aee8b7b246df8f9039afb4144a1f6fd8d2ca17a180786b69acc140d282b71a49"
  },
  "kernelspec": {
   "display_name": "Python 3.10.2 64-bit",
   "language": "python",
   "name": "python3"
  },
  "language_info": {
   "codemirror_mode": {
    "name": "ipython",
    "version": 3
   },
   "file_extension": ".py",
   "mimetype": "text/x-python",
   "name": "python",
   "nbconvert_exporter": "python",
   "pygments_lexer": "ipython3",
   "version": "3.10.2"
  },
  "orig_nbformat": 4
 },
 "nbformat": 4,
 "nbformat_minor": 2
}
