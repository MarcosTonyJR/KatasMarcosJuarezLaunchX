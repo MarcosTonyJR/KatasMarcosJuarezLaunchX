{
 "cells": [
  {
   "cell_type": "code",
   "execution_count": 18,
   "metadata": {},
   "outputs": [
    {
     "name": "stdout",
     "output_type": "stream",
     "text": [
      "Marte has 2 lunas\n",
      "Marte tiene una circunferencia polar de 6752\n",
      "17.833333333333332\n"
     ]
    }
   ],
   "source": [
    "planeta = {\n",
    "    'nombre': 'Marte',\n",
    "    'lunas': 2\n",
    "}\n",
    "print(f'{planeta[\"nombre\"]} has {planeta[\"lunas\"]} lunas')\n",
    "planeta['circumferencia (km)'] = {\n",
    "    'polar': 6752,\n",
    "    'equatorial': 6792\n",
    "}\n",
    "print(f'{planeta[\"nombre\"]} tiene una circunferencia polar de {planeta[\"circumferencia (km)\"][\"polar\"]}')\n",
    "planeta_lunas = {\n",
    "    'mercury': 0,\n",
    "    'venus': 0,\n",
    "    'earth': 1,\n",
    "    'mars': 2,\n",
    "    'jupiter': 79,\n",
    "    'saturn': 82,\n",
    "    'uranus': 27,\n",
    "    'neptune': 14,\n",
    "    'pluto': 5,\n",
    "    'haumea': 2,\n",
    "    'makemake': 1,\n",
    "    'eris': 1\n",
    "}\n",
    "lunas = planeta_lunas.values()\n",
    "planetas = len(planeta_lunas.keys())\n",
    "total_lunas = 0\n",
    "for luna in lunas:\n",
    "    total_lunas = total_lunas + luna\n",
    "    average = total_lunas / planetas\n",
    "print(average)"
   ]
  }
 ],
 "metadata": {
  "interpreter": {
   "hash": "aee8b7b246df8f9039afb4144a1f6fd8d2ca17a180786b69acc140d282b71a49"
  },
  "kernelspec": {
   "display_name": "Python 3.10.2 64-bit",
   "language": "python",
   "name": "python3"
  },
  "language_info": {
   "codemirror_mode": {
    "name": "ipython",
    "version": 3
   },
   "file_extension": ".py",
   "mimetype": "text/x-python",
   "name": "python",
   "nbconvert_exporter": "python",
   "pygments_lexer": "ipython3",
   "version": "3.10.2"
  },
  "orig_nbformat": 4
 },
 "nbformat": 4,
 "nbformat_minor": 2
}
